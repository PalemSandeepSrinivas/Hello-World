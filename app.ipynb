{
 "cells": [
  {
   "cell_type": "code",
   "execution_count": 1,
   "metadata": {},
   "outputs": [
    {
     "name": "stdout",
     "output_type": "stream",
     "text": [
      "Non-English language detected: id in sentence:  I ended up saying, 'Pah-tah-tahs brah-vahs, por favor\n"
     ]
    }
   ],
   "source": [
    "from langdetect import detect\n",
    "from langdetect.lang_detect_exception import LangDetectException\n",
    "\n",
    "def check_mixed_language(text):\n",
    "    sentences = text.split('.')  # Split by sentences (you can use more sophisticated splitting)\n",
    "    for sentence in sentences:\n",
    "        if sentence.strip():  # Ignore empty strings\n",
    "            try:\n",
    "                lang = detect(sentence)\n",
    "                if lang != 'en':\n",
    "                    raise ValueError(f\"Non-English language detected: {lang} in sentence: {sentence}\")\n",
    "            except LangDetectException:\n",
    "                print(f\"Language detection failed for sentence: {sentence}\")\n",
    "    return True\n",
    "\n",
    "text = \"I recently went on an amazing vacation to Spain. I was staying in a casa rural, which was a charming little house in the countryside. One evening, I went to a local tapas bar and tried to order some food. I wanted to ask for 'patatas bravas' but I couldn't remember the words. I ended up saying, 'Pah-tah-tahs brah-vahs, por favor.' The bartender laughed and said, 'Muy bien, señor.' I felt so proud of myself for trying! I also had some 'pan con tomate,' which I pronounced as 'pahn kohn toh-mah-teh.' It was delicious! Throughout my trip, I kept hearing phrases like 'Ola, como estas?' (Oh-la, koh-moh eh-stahs?) and 'Gracias' (Grah-thee-ahs). I even tried to say 'De nada' (Deh nah-dah) a few times. Overall, it was a fantastic trip, even though my Spanish was limited to phonetic pronunciations!\"\n",
    "try:\n",
    "    if check_mixed_language(text):\n",
    "        print(\"Text is predominantly English.\")\n",
    "except ValueError as e:\n",
    "    print(e)"
   ]
  },
  {
   "cell_type": "code",
   "execution_count": 2,
   "metadata": {},
   "outputs": [
    {
     "name": "stdout",
     "output_type": "stream",
     "text": [
      "Currently I am workign for product based company\n"
     ]
    }
   ],
   "source": [
    "# "
   ]
  }
 ],
 "metadata": {
  "kernelspec": {
   "display_name": "main",
   "language": "python",
   "name": "python3"
  },
  "language_info": {
   "codemirror_mode": {
    "name": "ipython",
    "version": 3
   },
   "file_extension": ".py",
   "mimetype": "text/x-python",
   "name": "python",
   "nbconvert_exporter": "python",
   "pygments_lexer": "ipython3",
   "version": "3.11.7"
  }
 },
 "nbformat": 4,
 "nbformat_minor": 2
}
